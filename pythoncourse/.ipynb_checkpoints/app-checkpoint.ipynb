{
 "cells": [
  {
   "cell_type": "code",
   "execution_count": 1,
   "id": "5faa18e4",
   "metadata": {},
   "outputs": [
    {
     "name": "stdout",
     "output_type": "stream",
     "text": [
      "Hello Rizwan\n"
     ]
    }
   ],
   "source": [
    "print(\"Hello Rizwan\")"
   ]
  },
  {
   "cell_type": "code",
   "execution_count": 8,
   "id": "a882d70e",
   "metadata": {},
   "outputs": [
    {
     "name": "stdout",
     "output_type": "stream",
     "text": [
      "0----\\\n",
      " ||||\n"
     ]
    }
   ],
   "source": [
    "print('0----\\\\')\n",
    "print(' ||||')"
   ]
  },
  {
   "cell_type": "code",
   "execution_count": 6,
   "id": "e7e7e28f",
   "metadata": {},
   "outputs": [
    {
     "name": "stdout",
     "output_type": "stream",
     "text": [
      "***************\n"
     ]
    }
   ],
   "source": [
    "print('*' * 15) # print 15 steric"
   ]
  },
  {
   "cell_type": "code",
   "execution_count": 10,
   "id": "c48e38d6",
   "metadata": {},
   "outputs": [
    {
     "name": "stdout",
     "output_type": "stream",
     "text": [
      "20\n"
     ]
    }
   ],
   "source": [
    "# price = 10\n",
    "# price = 20\n",
    "# print(price)"
   ]
  },
  {
   "cell_type": "code",
   "execution_count": 12,
   "id": "ce8f9e12",
   "metadata": {},
   "outputs": [
    {
     "name": "stdout",
     "output_type": "stream",
     "text": [
      "What is your name? rizwan khan\n",
      "Hi rizwan khan\n"
     ]
    }
   ],
   "source": [
    "# full_name = \"Rizwan Khan\"\n",
    "# age = 25\n",
    "# is_new = True\n",
    "name = input('What is your name? ')\n",
    "print('Hi '+name)"
   ]
  },
  {
   "cell_type": "code",
   "execution_count": 4,
   "id": "d64f4b36",
   "metadata": {},
   "outputs": [
    {
     "name": "stdout",
     "output_type": "stream",
     "text": [
      "Birth Year: 1996\n",
      "<class 'str'>\n",
      "<class 'int'>\n",
      "26\n"
     ]
    }
   ],
   "source": [
    "#21\n",
    "birth_year = input('Birth Year: ')\n",
    "print(type(birth_year))\n",
    "age = 2022-int(birth_year)\n",
    "print(type(age))\n",
    "print(age)"
   ]
  },
  {
   "cell_type": "code",
   "execution_count": 7,
   "id": "432fc355",
   "metadata": {},
   "outputs": [
    {
     "name": "stdout",
     "output_type": "stream",
     "text": [
      " \n",
      "Hi Rizwan,\n",
      "How Are You\n",
      "Where Are You\n",
      "\n"
     ]
    }
   ],
   "source": [
    "course = ''' \n",
    "Hi Rizwan,\n",
    "How Are You\n",
    "Where Are You\n",
    "'''\n",
    "\n",
    "print(course)"
   ]
  },
  {
   "cell_type": "code",
   "execution_count": 17,
   "id": "c766ff03",
   "metadata": {},
   "outputs": [
    {
     "name": "stdout",
     "output_type": "stream",
     "text": [
      "n\n",
      "iz\n",
      "izwan\n",
      "I am R\n",
      "I am Rizwan\n"
     ]
    }
   ],
   "source": [
    "course = \"I am Rizwan\"\n",
    "another = course[:]\n",
    "print(course[-1])\n",
    "print(course[6:8])\n",
    "print(course[6:])\n",
    "print(course[:6])\n",
    "print(another)"
   ]
  },
  {
   "cell_type": "code",
   "execution_count": 18,
   "id": "0b6ba88b",
   "metadata": {},
   "outputs": [
    {
     "name": "stdout",
     "output_type": "stream",
     "text": [
      "iZwa\n"
     ]
    }
   ],
   "source": [
    "name = 'riZwan'\n",
    "print(name[1:-1])"
   ]
  },
  {
   "cell_type": "code",
   "execution_count": 19,
   "id": "e602bc84",
   "metadata": {},
   "outputs": [
    {
     "name": "stdout",
     "output_type": "stream",
     "text": [
      "rizwan [khan] is a coder\n",
      "rizwan [khan] is a coder\n"
     ]
    }
   ],
   "source": [
    "first = 'rizwan'\n",
    "last = 'khan'\n",
    "message = first + ' ['+last+'] is a coder'\n",
    "msg = f'{first} [{last}] is a coder'\n",
    "print(message)\n",
    "print(msg)"
   ]
  },
  {
   "cell_type": "code",
   "execution_count": 23,
   "id": "e440d5bf",
   "metadata": {},
   "outputs": [
    {
     "name": "stdout",
     "output_type": "stream",
     "text": [
      "20\n",
      "PYTHON FOR BEGINNERS\n",
      "python for beginners\n"
     ]
    }
   ],
   "source": [
    "course = 'Python for Beginners'\n",
    "print(len(course))\n",
    "print(course.upper())\n",
    "print(course.lower())"
   ]
  },
  {
   "cell_type": "code",
   "execution_count": 31,
   "id": "6bdc2c67",
   "metadata": {},
   "outputs": [
    {
     "name": "stdout",
     "output_type": "stream",
     "text": [
      "0\n",
      "jython for Beginners\n",
      "Python Also Beginners\n",
      "True\n"
     ]
    }
   ],
   "source": [
    "course = 'Python for Beginners'\n",
    "print(course.find('P')) # case sensitive\n",
    "print(course.replace('P','j'))\n",
    "print(course.replace('for','Also'))\n",
    "print('Python' in course) # case sensitive"
   ]
  },
  {
   "cell_type": "code",
   "execution_count": 34,
   "id": "0612ea9a",
   "metadata": {},
   "outputs": [
    {
     "name": "stdout",
     "output_type": "stream",
     "text": [
      "3.3333333333333335\n",
      "3\n",
      "1\n"
     ]
    }
   ],
   "source": [
    "print(10/3)\n",
    "print(10//3)\n",
    "print(10%3)"
   ]
  },
  {
   "cell_type": "code",
   "execution_count": 42,
   "id": "6c905f90",
   "metadata": {},
   "outputs": [
    {
     "name": "stdout",
     "output_type": "stream",
     "text": [
      "8\n",
      "9\n"
     ]
    }
   ],
   "source": [
    "x = 2\n",
    "y =3\n",
    "print(x**y)\n",
    "print(y**x)"
   ]
  },
  {
   "cell_type": "code",
   "execution_count": 41,
   "id": "fbcc5050",
   "metadata": {},
   "outputs": [
    {
     "name": "stdout",
     "output_type": "stream",
     "text": [
      "2\n"
     ]
    }
   ],
   "source": [
    "x = 4\n",
    "# x += x+5\n",
    "# x -= 2\n",
    "print(x)"
   ]
  },
  {
   "cell_type": "code",
   "execution_count": 46,
   "id": "d95486db",
   "metadata": {},
   "outputs": [
    {
     "name": "stdout",
     "output_type": "stream",
     "text": [
      "3\n",
      "4\n",
      "7.8\n"
     ]
    }
   ],
   "source": [
    "x = 3.3\n",
    "y = 3.7\n",
    "print(round(x))\n",
    "print(round(y))\n",
    "print(abs(-7.8))"
   ]
  },
  {
   "cell_type": "code",
   "execution_count": 50,
   "id": "dd6e6f08",
   "metadata": {},
   "outputs": [
    {
     "name": "stdout",
     "output_type": "stream",
     "text": [
      "3\n",
      "2\n"
     ]
    }
   ],
   "source": [
    "import math\n",
    "\n",
    "print(math.ceil(2.8))\n",
    "print(math.floor(2.8))"
   ]
  },
  {
   "cell_type": "code",
   "execution_count": 57,
   "id": "7069dc68",
   "metadata": {},
   "outputs": [
    {
     "name": "stdout",
     "output_type": "stream",
     "text": [
      "It's a lovely day\n",
      "Enjoye Your Day\n"
     ]
    }
   ],
   "source": [
    "is_hot = False\n",
    "is_cold = False\n",
    "\n",
    "if is_hot:\n",
    "    print(\"It's a hot day\")\n",
    "    print(\"Drink plenty of water\")\n",
    "elif is_cold:\n",
    "    print(\"It's a cold day\")\n",
    "    print(\"Wear warm clothes\")\n",
    "else:\n",
    "    print(\"It's a lovely day\")\n",
    "print(\"Enjoye Your Day\")"
   ]
  },
  {
   "cell_type": "markdown",
   "id": "a486e320",
   "metadata": {},
   "source": [
    "# logical operatore"
   ]
  },
  {
   "cell_type": "code",
   "execution_count": 8,
   "id": "d5152dc0",
   "metadata": {},
   "outputs": [
    {
     "name": "stdout",
     "output_type": "stream",
     "text": [
      "not\n"
     ]
    }
   ],
   "source": [
    "has_high_income = True\n",
    "has_good_credit = False\n",
    "has_criminal_record = True\n",
    "\n",
    "# if has_high_income or has_good_credit:\n",
    "#     print(\"OK\")\n",
    "# else:\n",
    "#     print(\"not\")\n",
    "\n",
    "# if has_high_income and has_good_credit:\n",
    "#     print(\"OK\")\n",
    "# else:\n",
    "#     print(\"not\")\n",
    "\n",
    "if has_high_income and not has_criminal_record:\n",
    "    print(\"OK\")\n",
    "else:\n",
    "    print(\"not\")"
   ]
  },
  {
   "cell_type": "code",
   "execution_count": null,
   "id": "38189e86",
   "metadata": {},
   "outputs": [],
   "source": []
  }
 ],
 "metadata": {
  "kernelspec": {
   "display_name": "Python 3 (ipykernel)",
   "language": "python",
   "name": "python3"
  },
  "language_info": {
   "codemirror_mode": {
    "name": "ipython",
    "version": 3
   },
   "file_extension": ".py",
   "mimetype": "text/x-python",
   "name": "python",
   "nbconvert_exporter": "python",
   "pygments_lexer": "ipython3",
   "version": "3.9.12"
  }
 },
 "nbformat": 4,
 "nbformat_minor": 5
}
