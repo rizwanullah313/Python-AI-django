{
 "cells": [
  {
   "cell_type": "code",
   "execution_count": 2,
   "id": "d076bca0",
   "metadata": {},
   "outputs": [
    {
     "name": "stdout",
     "output_type": "stream",
     "text": [
      "> stop\n",
      "Car is already Stoped\n",
      "> stop\n",
      "Car is already Stoped\n",
      "> start\n",
      "Car started...\n",
      "> start\n",
      "Car is already started\n",
      "> start\n",
      "Car is already started\n",
      "> stop\n",
      "Car Stoped...\n",
      "> stop\n",
      "Car is already Stoped\n",
      "> start\n",
      "Car started...\n",
      "> help\n",
      "\n",
      "start - to start the car\n",
      "stop - to stop the car\n",
      "quit - to quit\n",
      "        \n",
      "> quit\n"
     ]
    }
   ],
   "source": [
    "command = \"\"\n",
    "started = False\n",
    "while True:\n",
    "    command = input(\"> \").lower()\n",
    "    if command == \"start\":\n",
    "        if started:\n",
    "            print(\"Car is already started\")\n",
    "        else:\n",
    "            started = True\n",
    "            print(\"Car started...\")\n",
    "    elif command == \"stop\":\n",
    "        if not started:\n",
    "            print(\"Car is already Stoped\")\n",
    "        else:\n",
    "            started = False\n",
    "            print(\"Car Stoped...\")\n",
    "    elif command == \"help\":\n",
    "        print(\"\"\"\n",
    "start - to start the car\n",
    "stop - to stop the car\n",
    "quit - to quit\n",
    "        \"\"\")\n",
    "    elif command == \"quit\":\n",
    "        break\n",
    "    else:\n",
    "        print(\"Sorry, I don't Understand that\")"
   ]
  },
  {
   "cell_type": "code",
   "execution_count": 4,
   "id": "b982f01f",
   "metadata": {},
   "outputs": [
    {
     "name": "stdout",
     "output_type": "stream",
     "text": [
      "Python"
     ]
    }
   ],
   "source": [
    "\n",
    "for item in 'Python':\n",
    "    print(item,end='')"
   ]
  },
  {
   "cell_type": "code",
   "execution_count": 5,
   "id": "577e0b20",
   "metadata": {},
   "outputs": [
    {
     "name": "stdout",
     "output_type": "stream",
     "text": [
      "Mosh\n",
      "Jhon\n",
      "Rizwan\n"
     ]
    }
   ],
   "source": [
    "for item in [\"Mosh\",'Jhon',\"Rizwan\"]:\n",
    "    print(item)"
   ]
  },
  {
   "cell_type": "code",
   "execution_count": 10,
   "id": "fb2b0ea8",
   "metadata": {},
   "outputs": [
    {
     "name": "stdout",
     "output_type": "stream",
     "text": [
      "2 4 6 8 "
     ]
    }
   ],
   "source": [
    "for item in range(2,10,2):\n",
    "    print(item,end=' ')"
   ]
  },
  {
   "cell_type": "code",
   "execution_count": 14,
   "id": "a3b7cc5f",
   "metadata": {},
   "outputs": [
    {
     "name": "stdout",
     "output_type": "stream",
     "text": [
      "130\n"
     ]
    }
   ],
   "source": [
    "\n",
    "prices = [10,90,30]\n",
    "total = 0\n",
    "for item in prices:\n",
    "    total += item\n",
    "print(total)"
   ]
  },
  {
   "cell_type": "markdown",
   "id": "277ad16d",
   "metadata": {},
   "source": [
    "# nested loop"
   ]
  },
  {
   "cell_type": "code",
   "execution_count": 15,
   "id": "cca0daab",
   "metadata": {},
   "outputs": [
    {
     "name": "stdout",
     "output_type": "stream",
     "text": [
      "(0,0)\n",
      "(0,1)\n",
      "(0,2)\n",
      "(1,0)\n",
      "(1,1)\n",
      "(1,2)\n",
      "(2,0)\n",
      "(2,1)\n",
      "(2,2)\n",
      "(3,0)\n",
      "(3,1)\n",
      "(3,2)\n"
     ]
    }
   ],
   "source": [
    "for x in range(4):\n",
    "    for y in range(3):\n",
    "        print(f\"({x},{y})\")"
   ]
  },
  {
   "cell_type": "code",
   "execution_count": 26,
   "id": "e8300d2a",
   "metadata": {},
   "outputs": [
    {
     "name": "stdout",
     "output_type": "stream",
     "text": [
      "xxxxxxx\n",
      "xx\n",
      "xxxxxxx\n",
      "xx\n",
      "xx\n"
     ]
    }
   ],
   "source": [
    "numbers = [7,2,7,2,2]\n",
    "for xyz in numbers:\n",
    "    print('x'*xyz)\n"
   ]
  },
  {
   "cell_type": "code",
   "execution_count": 27,
   "id": "9d77be58",
   "metadata": {},
   "outputs": [
    {
     "name": "stdout",
     "output_type": "stream",
     "text": [
      "['Rizwan', 'shan', 'haris', 'waseem']\n"
     ]
    }
   ],
   "source": [
    "names = ['Rizwan',\"shan\",\"haris\",\"waseem\"]\n",
    "print(names)"
   ]
  },
  {
   "cell_type": "code",
   "execution_count": 30,
   "id": "ec2fc84e",
   "metadata": {},
   "outputs": [
    {
     "name": "stdout",
     "output_type": "stream",
     "text": [
      "waseem\n"
     ]
    }
   ],
   "source": [
    "print(names[3])"
   ]
  },
  {
   "cell_type": "code",
   "execution_count": 31,
   "id": "b92d33ad",
   "metadata": {},
   "outputs": [
    {
     "name": "stdout",
     "output_type": "stream",
     "text": [
      "haris\n"
     ]
    }
   ],
   "source": [
    "print(names[-2])"
   ]
  },
  {
   "cell_type": "code",
   "execution_count": 33,
   "id": "db0f7783",
   "metadata": {},
   "outputs": [
    {
     "name": "stdout",
     "output_type": "stream",
     "text": [
      "['shan', 'haris', 'waseem']\n"
     ]
    }
   ],
   "source": [
    "print(names[1:4])"
   ]
  },
  {
   "cell_type": "code",
   "execution_count": 34,
   "id": "16b01f0b",
   "metadata": {},
   "outputs": [
    {
     "name": "stdout",
     "output_type": "stream",
     "text": [
      "['haris', 'waseem']\n"
     ]
    }
   ],
   "source": [
    "print(names[2:])"
   ]
  },
  {
   "cell_type": "code",
   "execution_count": 35,
   "id": "dead075c",
   "metadata": {},
   "outputs": [
    {
     "name": "stdout",
     "output_type": "stream",
     "text": [
      "['Rizwan', 'shan']\n"
     ]
    }
   ],
   "source": [
    "print(names[:2])"
   ]
  },
  {
   "cell_type": "code",
   "execution_count": 37,
   "id": "38406969",
   "metadata": {},
   "outputs": [
    {
     "name": "stdout",
     "output_type": "stream",
     "text": [
      "['Rizwan', 'Shaan', 'haris', 'waseem']\n"
     ]
    }
   ],
   "source": [
    "names[1] = \"Shaan\"\n",
    "print(names)"
   ]
  },
  {
   "cell_type": "code",
   "execution_count": 38,
   "id": "0ab5da02",
   "metadata": {},
   "outputs": [
    {
     "name": "stdout",
     "output_type": "stream",
     "text": [
      "55\n"
     ]
    }
   ],
   "source": [
    "number = [3,6,3,1,4,2,7,55,33,5,3]\n",
    "print(max(number))"
   ]
  },
  {
   "cell_type": "code",
   "execution_count": 39,
   "id": "1866e840",
   "metadata": {},
   "outputs": [
    {
     "name": "stdout",
     "output_type": "stream",
     "text": [
      "[3, 6, 3, 1, 4, 2, 7, 55, 33, 5, 3]\n"
     ]
    }
   ],
   "source": [
    "print(number)"
   ]
  },
  {
   "cell_type": "code",
   "execution_count": 43,
   "id": "62a8ec01",
   "metadata": {},
   "outputs": [
    {
     "name": "stdout",
     "output_type": "stream",
     "text": [
      "2\n",
      "Items  1\n",
      "Items  2\n",
      "Items  3\n",
      "Items  4\n",
      "Items  5\n",
      "Items  6\n",
      "Items  7\n",
      "Items  8\n",
      "Items  9\n"
     ]
    }
   ],
   "source": [
    "matrix = [\n",
    "    [1,2,3],\n",
    "    [4,5,6],\n",
    "    [7,8,9]\n",
    "]\n",
    "print(matrix[0][1])\n",
    "for row in matrix:\n",
    "    for item in row:\n",
    "        print(\"Items \",item)"
   ]
  },
  {
   "cell_type": "code",
   "execution_count": 54,
   "id": "60a51707",
   "metadata": {},
   "outputs": [
    {
     "data": {
      "text/plain": [
       "20"
      ]
     },
     "execution_count": 54,
     "metadata": {},
     "output_type": "execute_result"
    }
   ],
   "source": [
    "num = [5,2,1,7,4,7]\n",
    "num.append(20) # last me add karega\n",
    "num.insert(0,99) # specified index k bad add akrega\n",
    "num.remove(1)\n",
    "# num.clear() # Remove all\n",
    "num.pop() # ye last remove karega\n",
    "# print(num)\n",
    "# print(num.index(7))\n"
   ]
  },
  {
   "cell_type": "code",
   "execution_count": 55,
   "id": "560ae39e",
   "metadata": {},
   "outputs": [
    {
     "name": "stdout",
     "output_type": "stream",
     "text": [
      "True\n"
     ]
    }
   ],
   "source": [
    "print(4 in num)"
   ]
  },
  {
   "cell_type": "code",
   "execution_count": 56,
   "id": "7adc713e",
   "metadata": {},
   "outputs": [
    {
     "name": "stdout",
     "output_type": "stream",
     "text": [
      "2\n"
     ]
    }
   ],
   "source": [
    "print(num.count(7))"
   ]
  },
  {
   "cell_type": "code",
   "execution_count": 65,
   "id": "9f766865",
   "metadata": {},
   "outputs": [
    {
     "name": "stdout",
     "output_type": "stream",
     "text": [
      "[1, 2, 4, 5, 7, 7]\n",
      "[5, 2, 1, 7, 4, 7]\n"
     ]
    }
   ],
   "source": [
    "\n",
    "num = [5,2,1,7,4,7]\n",
    "# num.reverse()\n",
    "ex = num.copy()\n",
    "num.sort()\n",
    "print(num)\n",
    "print(ex)"
   ]
  },
  {
   "cell_type": "markdown",
   "id": "e20aa9f1",
   "metadata": {},
   "source": [
    "# remove duplicate from list"
   ]
  },
  {
   "cell_type": "code",
   "execution_count": 71,
   "id": "097ce1a8",
   "metadata": {},
   "outputs": [
    {
     "name": "stdout",
     "output_type": "stream",
     "text": [
      "[2, 3, 4, 5, 6, 7]\n"
     ]
    }
   ],
   "source": [
    "numb = [2,3,3,2,4,5,6,7,6,4,2,3]\n",
    "unique = []\n",
    "for num in numb:\n",
    "    if num not in unique:\n",
    "        unique.append(num)\n",
    "print(unique)"
   ]
  },
  {
   "cell_type": "markdown",
   "id": "f9af3b38",
   "metadata": {},
   "source": [
    "# Touples"
   ]
  },
  {
   "cell_type": "code",
   "execution_count": 75,
   "id": "788f42a1",
   "metadata": {},
   "outputs": [
    {
     "name": "stdout",
     "output_type": "stream",
     "text": [
      "3\n"
     ]
    }
   ],
   "source": [
    "# in touple you can't change any things update or delete\n",
    "numbers = (1,2,3)\n",
    "# numbers[2] = 33\n",
    "print(numbers[2])"
   ]
  },
  {
   "cell_type": "markdown",
   "id": "e37e6db3",
   "metadata": {},
   "source": [
    "# unpacking"
   ]
  },
  {
   "cell_type": "code",
   "execution_count": 76,
   "id": "b250ed11",
   "metadata": {},
   "outputs": [
    {
     "name": "stdout",
     "output_type": "stream",
     "text": [
      "1 2 3\n"
     ]
    }
   ],
   "source": [
    "coordinates = (1,2,3)\n",
    "# x = coordinates[0]\n",
    "# y = coordinates[1]\n",
    "# z = coordinates[2]\n",
    "# x*y*z\n",
    "\n",
    "x,y,z = coordinates\n",
    "print(x,y,z)"
   ]
  },
  {
   "cell_type": "code",
   "execution_count": 77,
   "id": "857fd1fa",
   "metadata": {},
   "outputs": [
    {
     "name": "stdout",
     "output_type": "stream",
     "text": [
      "1 2 3\n"
     ]
    }
   ],
   "source": [
    "coordinates = [1,2,3]\n",
    "# x = coordinates[0]\n",
    "# y = coordinates[1]\n",
    "# z = coordinates[2]\n",
    "# x*y*z\n",
    "\n",
    "x,y,z = coordinates\n",
    "print(x,y,z)"
   ]
  },
  {
   "cell_type": "markdown",
   "id": "71e60cae",
   "metadata": {},
   "source": [
    "# Dictionary"
   ]
  },
  {
   "cell_type": "code",
   "execution_count": 85,
   "id": "1e262ab4",
   "metadata": {},
   "outputs": [
    {
     "name": "stdout",
     "output_type": "stream",
     "text": [
      "Rizwan Khan\n"
     ]
    }
   ],
   "source": [
    "customer = {\n",
    "    \"name\": \"Rizwan Khan\",\n",
    "    \"age\": 30,\n",
    "    \"is_verified\": True\n",
    "}\n",
    "customer[\"pg\"] = True\n",
    "print(customer[\"name\"])"
   ]
  },
  {
   "cell_type": "code",
   "execution_count": 86,
   "id": "5a5d18bd",
   "metadata": {},
   "outputs": [
    {
     "name": "stdout",
     "output_type": "stream",
     "text": [
      "True\n"
     ]
    }
   ],
   "source": [
    "print(customer.get(\"pg\"))"
   ]
  },
  {
   "cell_type": "code",
   "execution_count": 90,
   "id": "54a4b7cb",
   "metadata": {},
   "outputs": [
    {
     "name": "stdout",
     "output_type": "stream",
     "text": [
      "Phone1234\n",
      " One Two Three four\n"
     ]
    }
   ],
   "source": [
    "phone = input(\"Phone\")\n",
    "digits_mapping = {\n",
    "    \"1\":\" One\",\n",
    "    \"2\":\" Two\",\n",
    "    \"3\":\" Three\",\n",
    "    \"4\":\" four\"\n",
    "}\n",
    "output = \"\"\n",
    "for ch in phone:\n",
    "    output += digits_mapping.get(ch,\" !\")\n",
    "print(output)"
   ]
  },
  {
   "cell_type": "code",
   "execution_count": 91,
   "id": "c94bc47f",
   "metadata": {},
   "outputs": [],
   "source": [
    "# 2:26"
   ]
  },
  {
   "cell_type": "code",
   "execution_count": null,
   "id": "87d4f1fb",
   "metadata": {},
   "outputs": [],
   "source": []
  }
 ],
 "metadata": {
  "kernelspec": {
   "display_name": "Python 3 (ipykernel)",
   "language": "python",
   "name": "python3"
  },
  "language_info": {
   "codemirror_mode": {
    "name": "ipython",
    "version": 3
   },
   "file_extension": ".py",
   "mimetype": "text/x-python",
   "name": "python",
   "nbconvert_exporter": "python",
   "pygments_lexer": "ipython3",
   "version": "3.9.12"
  }
 },
 "nbformat": 4,
 "nbformat_minor": 5
}
