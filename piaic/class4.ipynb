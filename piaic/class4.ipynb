{
 "cells": [
  {
   "cell_type": "markdown",
   "id": "00f03a87",
   "metadata": {},
   "source": [
    "# Function"
   ]
  },
  {
   "cell_type": "code",
   "execution_count": 3,
   "id": "69a65e0d",
   "metadata": {},
   "outputs": [
    {
     "name": "stdout",
     "output_type": "stream",
     "text": [
      "23\n"
     ]
    }
   ],
   "source": [
    "num1 = 11\n",
    "num2 = 12\n",
    "def addition():\n",
    "    print(num1+num2)\n",
    "addition()"
   ]
  },
  {
   "cell_type": "code",
   "execution_count": 4,
   "id": "612635ad",
   "metadata": {},
   "outputs": [
    {
     "name": "stdout",
     "output_type": "stream",
     "text": [
      "7\n"
     ]
    }
   ],
   "source": [
    "\n",
    "def addition(num1,num2):\n",
    "    print(num1+num2)\n",
    "addition(2,5)"
   ]
  },
  {
   "cell_type": "code",
   "execution_count": 7,
   "id": "55fe5b9e",
   "metadata": {},
   "outputs": [
    {
     "name": "stdout",
     "output_type": "stream",
     "text": [
      "******************************\n"
     ]
    }
   ],
   "source": [
    "def repeat_a_string(content,times):\n",
    "    print(content * times)\n",
    "repeat_a_string('*',30)"
   ]
  },
  {
   "cell_type": "code",
   "execution_count": 8,
   "id": "357eee26",
   "metadata": {},
   "outputs": [
    {
     "name": "stdout",
     "output_type": "stream",
     "text": [
      "{'num1': 10, 'num2': 20, 'num3': 40}\n"
     ]
    }
   ],
   "source": [
    "def addition(**numbers):\n",
    "    print(numbers)\n",
    "\n",
    "addition(num1=10, num2=20, num3=40)"
   ]
  },
  {
   "cell_type": "code",
   "execution_count": 12,
   "id": "4c19515c",
   "metadata": {},
   "outputs": [
    {
     "name": "stdout",
     "output_type": "stream",
     "text": [
      "Returned Value is 70\n"
     ]
    }
   ],
   "source": [
    "def addition(**numbers):\n",
    "    sum=0\n",
    "    for val in numbers.values():\n",
    "        sum+=val\n",
    "#     print(sum)\n",
    "    return sum\n",
    "return_val = addition(num1=10,num2=20,num3=40)\n",
    "print(f'Returned Value is {return_val}')"
   ]
  },
  {
   "cell_type": "code",
   "execution_count": 18,
   "id": "bef6682f",
   "metadata": {},
   "outputs": [
    {
     "name": "stdout",
     "output_type": "stream",
     "text": [
      "(10, 22, 33)\n",
      "{'c': 10, 'b1': 12, 'end': 54}\n"
     ]
    }
   ],
   "source": [
    "def addition(*vals):\n",
    "    print(vals)\n",
    "\n",
    "def addition2(**vals2):\n",
    "    print(vals2)\n",
    "addition(10,22,33)\n",
    "addition2(c=10,b1=12,end=54)"
   ]
  },
  {
   "cell_type": "code",
   "execution_count": null,
   "id": "db07aacb",
   "metadata": {},
   "outputs": [],
   "source": []
  }
 ],
 "metadata": {
  "kernelspec": {
   "display_name": "Python 3 (ipykernel)",
   "language": "python",
   "name": "python3"
  },
  "language_info": {
   "codemirror_mode": {
    "name": "ipython",
    "version": 3
   },
   "file_extension": ".py",
   "mimetype": "text/x-python",
   "name": "python",
   "nbconvert_exporter": "python",
   "pygments_lexer": "ipython3",
   "version": "3.9.12"
  }
 },
 "nbformat": 4,
 "nbformat_minor": 5
}
