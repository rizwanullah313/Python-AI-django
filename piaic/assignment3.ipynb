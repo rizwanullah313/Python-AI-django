{
 "cells": [
  {
   "cell_type": "markdown",
   "id": "b258e2a6",
   "metadata": {},
   "source": [
    "# assignment 3"
   ]
  },
  {
   "cell_type": "markdown",
   "id": "31cd2da1",
   "metadata": {},
   "source": [
    "# Q 1"
   ]
  },
  {
   "cell_type": "code",
   "execution_count": 30,
   "id": "3cd514a8",
   "metadata": {},
   "outputs": [
    {
     "name": "stdout",
     "output_type": "stream",
     "text": [
      "Enter Any String rizwann\n",
      "Counter({'n': 2, 'r': 1, 'i': 1, 'z': 1, 'w': 1, 'a': 1})\n",
      "7\n"
     ]
    }
   ],
   "source": [
    "from collections import Counter\n",
    "inputstr = Counter(input(\"Enter Any String \" ))\n",
    "print(inputstr)\n",
    "\n",
    "result = 0\n",
    "for char in inputstr:\n",
    "    result += inputstr[char]\n",
    "print(result)\n",
    "\n"
   ]
  },
  {
   "cell_type": "markdown",
   "id": "3e4d30fa",
   "metadata": {},
   "source": [
    "# Q 2"
   ]
  },
  {
   "cell_type": "code",
   "execution_count": 31,
   "id": "bfb5af38",
   "metadata": {},
   "outputs": [
    {
     "name": "stdout",
     "output_type": "stream",
     "text": [
      "Enter Any String rizwan\n",
      "Vowels  2\n",
      "Consonents  4\n"
     ]
    }
   ],
   "source": [
    "instr = Counter(input(\"Enter Any String \"))\n",
    "vowe = 0\n",
    "cons = 0\n",
    "for char in instr:\n",
    "    if char in ['A','a','E','e','I','i','O','o','U','u']:\n",
    "        vowe += instr[char]\n",
    "    else:\n",
    "        cons += instr[char]\n",
    "print(\"Vowels \",vowe)\n",
    "print(\"Consonents \",cons)"
   ]
  },
  {
   "cell_type": "markdown",
   "id": "82d60f97",
   "metadata": {},
   "source": [
    "# Q 3"
   ]
  },
  {
   "cell_type": "code",
   "execution_count": 33,
   "id": "c72bf8f3",
   "metadata": {},
   "outputs": [
    {
     "name": "stdout",
     "output_type": "stream",
     "text": [
      "Enter any number:121\n",
      "The 121 number is palindrome!\n"
     ]
    }
   ],
   "source": [
    "num=int(input(\"Enter any number:\"))\n",
    "temp=num\n",
    "rev=0\n",
    "while(num>0):\n",
    "    dig=num%10\n",
    "    rev=rev*10+dig\n",
    "    num=num//10\n",
    "if(temp==rev):\n",
    "    print(\"The {0} number is palindrome!\".format(temp))\n",
    "else:\n",
    "    print(\"Not a palindrome!\")"
   ]
  },
  {
   "cell_type": "markdown",
   "id": "bc99ddf2",
   "metadata": {},
   "source": [
    "# Q 4"
   ]
  },
  {
   "cell_type": "code",
   "execution_count": 8,
   "id": "9cb9afa6",
   "metadata": {},
   "outputs": [
    {
     "name": "stdout",
     "output_type": "stream",
     "text": [
      "Enter Any Number 10\n",
      "1 2 3 4 5 6 7 8 9  \n",
      "1 2 3 4 5 6 7 8  \n",
      "1 2 3 4 5 6 7  \n",
      "1 2 3 4 5 6  \n",
      "1 2 3 4 5  \n",
      "1 2 3 4  \n",
      "1 2 3  \n",
      "1 2  \n",
      "1  \n",
      " \n"
     ]
    }
   ],
   "source": [
    "inputn = int(input(\"Enter Any Number \"))\n",
    "ress = '';\n",
    "for i in range(inputn+1,1,-1):\n",
    "    for j in range(1,i-1):\n",
    "        ress += '*'\n",
    "        print(j, end=' ')  \n",
    "    print(\" \")  \n",
    " "
   ]
  },
  {
   "cell_type": "markdown",
   "id": "0a2e62d6",
   "metadata": {},
   "source": [
    "# Q 5"
   ]
  },
  {
   "cell_type": "code",
   "execution_count": 28,
   "id": "532b04b5",
   "metadata": {},
   "outputs": [
    {
     "name": "stdout",
     "output_type": "stream",
     "text": [
      "Enter the number of rows: 9\n",
      "                1  \n",
      "               1  2  \n",
      "              1  2  3  \n",
      "             1  2  3  4  \n",
      "            1  2  3  4  5  \n",
      "           1  2  3  4  5  6  \n",
      "          1  2  3  4  5  6  7  \n",
      "         1  2  3  4  5  6  7  8  \n",
      "       1  2  3  4  5  6  7  8  9  \n",
      "        1  2  3  4  5  6  7  8  \n",
      "         1  2  3  4  5  6  7  \n",
      "          1  2  3  4  5  6  \n",
      "           1  2  3  4  5  \n",
      "            1  2  3  4  \n",
      "             1  2  3  \n",
      "              1  2  \n",
      "               1  \n",
      "                \n"
     ]
    }
   ],
   "source": [
    "rows = int(input(\"Enter the number of rows: \"))  \n",
    "k = 2 * rows - 1  \n",
    "for i in range(1, rows):  \n",
    "    for j in range(1, k):  \n",
    "        print(end=\" \")  \n",
    "    k = k - 1  \n",
    "    for j in range(1, i + 1):  \n",
    "        print(j,\" \", end=\"\"\"\"\"\")  \n",
    "    print(\"\")  \n",
    "  \n",
    "k = rows - 1  \n",
    "for i in range(rows, -1, -1):  \n",
    "    for j in range(k, 1, -1):  \n",
    "        print(end=\" \")  \n",
    "    k = k + 1  \n",
    "    for j in range(1, i + 1):  \n",
    "        print(j,\" \", end=\"\")  \n",
    "    print(\"\") "
   ]
  },
  {
   "cell_type": "code",
   "execution_count": null,
   "id": "7e300010",
   "metadata": {},
   "outputs": [],
   "source": []
  }
 ],
 "metadata": {
  "kernelspec": {
   "display_name": "Python 3 (ipykernel)",
   "language": "python",
   "name": "python3"
  },
  "language_info": {
   "codemirror_mode": {
    "name": "ipython",
    "version": 3
   },
   "file_extension": ".py",
   "mimetype": "text/x-python",
   "name": "python",
   "nbconvert_exporter": "python",
   "pygments_lexer": "ipython3",
   "version": "3.9.12"
  }
 },
 "nbformat": 4,
 "nbformat_minor": 5
}
