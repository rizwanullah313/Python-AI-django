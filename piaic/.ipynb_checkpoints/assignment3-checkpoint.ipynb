{
 "cells": [
  {
   "cell_type": "markdown",
   "id": "71d31727",
   "metadata": {},
   "source": [
    "# assignment 3"
   ]
  },
  {
   "cell_type": "markdown",
   "id": "ddd28a57",
   "metadata": {},
   "source": [
    "# Q 1"
   ]
  },
  {
   "cell_type": "code",
   "execution_count": 30,
   "id": "cf28852a",
   "metadata": {},
   "outputs": [
    {
     "name": "stdout",
     "output_type": "stream",
     "text": [
      "Enter Any String rizwann\n",
      "Counter({'n': 2, 'r': 1, 'i': 1, 'z': 1, 'w': 1, 'a': 1})\n",
      "7\n"
     ]
    }
   ],
   "source": [
    "from collections import Counter\n",
    "inputstr = Counter(input(\"Enter Any String \" ))\n",
    "print(inputstr)\n",
    "\n",
    "result = 0\n",
    "for char in inputstr:\n",
    "    result += inputstr[char]\n",
    "print(result)\n",
    "\n"
   ]
  },
  {
   "cell_type": "markdown",
   "id": "e249e1e3",
   "metadata": {},
   "source": [
    "# Q 2"
   ]
  },
  {
   "cell_type": "code",
   "execution_count": 31,
   "id": "2fe1936f",
   "metadata": {},
   "outputs": [
    {
     "name": "stdout",
     "output_type": "stream",
     "text": [
      "Enter Any String rizwan\n",
      "Vowels  2\n",
      "Consonents  4\n"
     ]
    }
   ],
   "source": [
    "instr = Counter(input(\"Enter Any String \"))\n",
    "vowe = 0\n",
    "cons = 0\n",
    "for char in instr:\n",
    "    if char in ['A','a','E','e','I','i','O','o','U','u']:\n",
    "        vowe += instr[char]\n",
    "    else:\n",
    "        cons += instr[char]\n",
    "print(\"Vowels \",vowe)\n",
    "print(\"Consonents \",cons)"
   ]
  },
  {
   "cell_type": "markdown",
   "id": "21efe0a7",
   "metadata": {},
   "source": [
    "# Q 3"
   ]
  },
  {
   "cell_type": "code",
   "execution_count": null,
   "id": "d7fe8f45",
   "metadata": {},
   "outputs": [],
   "source": []
  }
 ],
 "metadata": {
  "kernelspec": {
   "display_name": "Python 3 (ipykernel)",
   "language": "python",
   "name": "python3"
  },
  "language_info": {
   "codemirror_mode": {
    "name": "ipython",
    "version": 3
   },
   "file_extension": ".py",
   "mimetype": "text/x-python",
   "name": "python",
   "nbconvert_exporter": "python",
   "pygments_lexer": "ipython3",
   "version": "3.9.12"
  }
 },
 "nbformat": 4,
 "nbformat_minor": 5
}
