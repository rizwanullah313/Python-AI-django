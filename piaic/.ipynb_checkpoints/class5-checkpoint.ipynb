{
 "cells": [
  {
   "cell_type": "code",
   "execution_count": 3,
   "id": "f4599b8e",
   "metadata": {},
   "outputs": [
    {
     "name": "stdout",
     "output_type": "stream",
     "text": [
      "rizwan\n"
     ]
    }
   ],
   "source": [
    "name = \"rizwan\"\n",
    "def change_name():\n",
    "    name = \"haris\"\n",
    "change_name()\n",
    "print(name)"
   ]
  },
  {
   "cell_type": "code",
   "execution_count": 5,
   "id": "844d3511",
   "metadata": {
    "collapsed": true
   },
   "outputs": [
    {
     "name": "stdout",
     "output_type": "stream",
     "text": [
      "Inside Function Vairbale:  haris\n",
      "rizwan\n"
     ]
    }
   ],
   "source": [
    "name = \"rizwan\"\n",
    "def change_name():\n",
    "    name = \"haris\"\n",
    "    print(\"Inside Function Vairbale: \",name)\n",
    "change_name()\n",
    "\n",
    "print(name)"
   ]
  },
  {
   "cell_type": "code",
   "execution_count": 15,
   "id": "7bf70b0e",
   "metadata": {},
   "outputs": [
    {
     "name": "stdout",
     "output_type": "stream",
     "text": [
      "-2\n"
     ]
    }
   ],
   "source": [
    "\n",
    "def add(num1,num2):\n",
    "    return num1+num2\n",
    "\n",
    "def substract(num1,num2):\n",
    "    return num1-num2\n",
    "\n",
    "def cal(num1,num2,op):\n",
    "    if op == '+':\n",
    "        print(add(num1,num2))\n",
    "    elif op == '-':\n",
    "        print(substract(num1,num2))\n",
    "    else:\n",
    "        'Wrong'\n",
    "\n",
    "cal(2,4,'-')"
   ]
  },
  {
   "cell_type": "code",
   "execution_count": 13,
   "id": "5f0df928",
   "metadata": {},
   "outputs": [
    {
     "name": "stdout",
     "output_type": "stream",
     "text": [
      "rizwan\n"
     ]
    }
   ],
   "source": [
    "def task(name):\n",
    "    def some_private():\n",
    "        print(name)\n",
    "    some_private()\n",
    "task('rizwan')"
   ]
  },
  {
   "cell_type": "code",
   "execution_count": 14,
   "id": "57998862",
   "metadata": {},
   "outputs": [
    {
     "name": "stdout",
     "output_type": "stream",
     "text": [
      "2\n",
      "4\n",
      "8\n",
      "16\n",
      "32\n",
      "Yes Inside\n"
     ]
    }
   ],
   "source": [
    "num = 1\n",
    "while num < 20:\n",
    "    num *=2\n",
    "    print(num)\n",
    "print('')"
   ]
  },
  {
   "cell_type": "code",
   "execution_count": null,
   "id": "7f384caa",
   "metadata": {},
   "outputs": [],
   "source": []
  }
 ],
 "metadata": {
  "kernelspec": {
   "display_name": "Python 3 (ipykernel)",
   "language": "python",
   "name": "python3"
  },
  "language_info": {
   "codemirror_mode": {
    "name": "ipython",
    "version": 3
   },
   "file_extension": ".py",
   "mimetype": "text/x-python",
   "name": "python",
   "nbconvert_exporter": "python",
   "pygments_lexer": "ipython3",
   "version": "3.9.12"
  }
 },
 "nbformat": 4,
 "nbformat_minor": 5
}
