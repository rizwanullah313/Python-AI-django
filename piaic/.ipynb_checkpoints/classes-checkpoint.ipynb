{
 "cells": [
  {
   "cell_type": "code",
   "execution_count": 6,
   "id": "8a5f391b",
   "metadata": {},
   "outputs": [
    {
     "name": "stdout",
     "output_type": "stream",
     "text": [
      "Patient name is abc, he is 55 years old\n"
     ]
    }
   ],
   "source": [
    "class Patient():\n",
    "    def __init__(self, name = 'rizwan', age = -1):\n",
    "        self.name = name\n",
    "        self.age = age\n",
    "        self.tax_bracket = None\n",
    "        \n",
    "patient = Patient('abc',55)\n",
    "print(f'Patient name is {patient.name}, he is {patient.age} years old')"
   ]
  },
  {
   "cell_type": "code",
   "execution_count": 8,
   "id": "6e6cd5e4",
   "metadata": {},
   "outputs": [
    {
     "name": "stdout",
     "output_type": "stream",
     "text": [
      "Patient name is abc, he is 55 years old\n",
      "Patiewnt abc is now adimitted in ward: Gaestro\n",
      "Patiewnt abc is now adimitted in ward: Neuro\n"
     ]
    }
   ],
   "source": [
    "class Patient():\n",
    "    def __init__(self, name = 'rizwan', age = -1):\n",
    "        self.name = name\n",
    "        self.age = age\n",
    "        self.tax_bracket = None\n",
    "    def admission(self,ward_name):\n",
    "        self.ward = ward_name\n",
    "        \n",
    "patient = Patient('abc',55)\n",
    "print(f'Patient name is {patient.name}, he is {patient.age} years old')\n",
    "patient.admission('Gaestro')\n",
    "print(f'Patiewnt {patient.name} is now adimitted in ward: {patient.ward}')\n",
    "patient.admission('Neuro')\n",
    "print(f'Patiewnt {patient.name} is now adimitted in ward: {patient.ward}')"
   ]
  },
  {
   "cell_type": "code",
   "execution_count": null,
   "id": "0cc930a3",
   "metadata": {},
   "outputs": [],
   "source": []
  }
 ],
 "metadata": {
  "kernelspec": {
   "display_name": "Python 3 (ipykernel)",
   "language": "python",
   "name": "python3"
  },
  "language_info": {
   "codemirror_mode": {
    "name": "ipython",
    "version": 3
   },
   "file_extension": ".py",
   "mimetype": "text/x-python",
   "name": "python",
   "nbconvert_exporter": "python",
   "pygments_lexer": "ipython3",
   "version": "3.9.12"
  }
 },
 "nbformat": 4,
 "nbformat_minor": 5
}
