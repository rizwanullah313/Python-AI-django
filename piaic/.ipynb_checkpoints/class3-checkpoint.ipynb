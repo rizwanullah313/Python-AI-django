{
 "cells": [
  {
   "cell_type": "code",
   "execution_count": 3,
   "id": "747bb7a2",
   "metadata": {},
   "outputs": [
    {
     "name": "stdout",
     "output_type": "stream",
     "text": [
      "name,rizwan\n",
      "age,23\n",
      "batch,3\n",
      "----------\n",
      "name,haris\n",
      "age,18\n",
      "batch,2\n",
      "----------\n"
     ]
    }
   ],
   "source": [
    "all_students = [\n",
    "    {\n",
    "        \"name\":\"rizwan\",\n",
    "        \"age\":\"23\",\n",
    "        \"batch\":\"3\"\n",
    "    },\n",
    "    {\n",
    "        \"name\":\"haris\",\n",
    "        \"age\":\"18\",\n",
    "        \"batch\":\"2\"\n",
    "    }\n",
    "]\n",
    "\n",
    "\n",
    "for student in all_students:\n",
    "    for l,m in student.items():\n",
    "        print(f'{l},{m}')\n",
    "    print('-' * 10)"
   ]
  },
  {
   "cell_type": "code",
   "execution_count": 4,
   "id": "ead5b157",
   "metadata": {},
   "outputs": [
    {
     "name": "stdout",
     "output_type": "stream",
     "text": [
      "name,rizwan\n",
      "age,23\n",
      "batch,3\n",
      "----------\n",
      "name,haris\n",
      "age,18\n",
      "batch,2\n",
      "----------\n",
      "name,Shahid\n",
      "age,44\n",
      "Batch,2\n",
      "----------\n"
     ]
    }
   ],
   "source": [
    "all_students = [\n",
    "    {\n",
    "        \"name\":\"rizwan\",\n",
    "        \"age\":\"23\",\n",
    "        \"batch\":\"3\"\n",
    "    },\n",
    "    {\n",
    "        \"name\":\"haris\",\n",
    "        \"age\":\"18\",\n",
    "        \"batch\":\"2\"\n",
    "    }\n",
    "]\n",
    "\n",
    "all_students.append({\n",
    "    'name': 'Shahid',\n",
    "    'age':44,\n",
    "    'Batch':2\n",
    "})\n",
    "for student in all_students:\n",
    "    for l,m in student.items():\n",
    "        print(f'{l},{m}')\n",
    "    print('-' * 10)"
   ]
  },
  {
   "cell_type": "code",
   "execution_count": 8,
   "id": "07ece4e6",
   "metadata": {},
   "outputs": [
    {
     "name": "stdout",
     "output_type": "stream",
     "text": [
      "['ahmed', 'haris', 'ali', 'faraz']\n",
      "ahmed\n",
      "haris\n",
      "ali\n",
      "faraz\n"
     ]
    }
   ],
   "source": [
    "employee = {\n",
    "    'name':\"rizwan\",\n",
    "    'car_no':\"M-9087u99\",\n",
    "    'Dependents':['ahmed','haris','ali','faraz']\n",
    "}\n",
    "\n",
    "# print(Employee\n",
    "print(employee['Dependents'])\n",
    "for dep in employee['Dependents']:\n",
    "    print(dep)"
   ]
  },
  {
   "cell_type": "markdown",
   "id": "490b2ef8",
   "metadata": {},
   "source": [
    "# Dictionary Contains In Dictionary"
   ]
  },
  {
   "cell_type": "code",
   "execution_count": 9,
   "id": "b792e90e",
   "metadata": {},
   "outputs": [],
   "source": [
    "customers = [\n",
    "    {\n",
    "        \"customer id\": 0,\n",
    "        \"first name\": \"rizwan\",\n",
    "        \"last name\":\"Ullah\",\n",
    "        \"address\": \"abc 123\",\n",
    "    },\n",
    "        {\n",
    "        \"customer id\": 1,\n",
    "        \"first name\": \"haris\",\n",
    "        \"last name\":\"khan\",\n",
    "        \"address\": \"xyz 123\",\n",
    "    },\n",
    "        {\n",
    "        \"customer id\": 2,\n",
    "        \"first name\": \"imran\",\n",
    "        \"last name\":\"jjjj\",\n",
    "        \"address\": \"ijk 123\",\n",
    "    }\n",
    "]"
   ]
  },
  {
   "cell_type": "code",
   "execution_count": 11,
   "id": "562fc283",
   "metadata": {},
   "outputs": [
    {
     "name": "stdout",
     "output_type": "stream",
     "text": [
      "None\n"
     ]
    }
   ],
   "source": [
    "customer = None\n",
    "\n",
    "for cust in customers:\n",
    "    if cust['customer id'] == 3:\n",
    "        customer = cust\n",
    "        break\n",
    "print(customer)"
   ]
  },
  {
   "cell_type": "code",
   "execution_count": 12,
   "id": "2ae656ad",
   "metadata": {},
   "outputs": [
    {
     "name": "stdout",
     "output_type": "stream",
     "text": [
      "{'customer id': 0, 'first name': 'rizwan', 'last name': 'Ullah', 'address': 'abc 123'}\n"
     ]
    }
   ],
   "source": [
    "customer = None\n",
    "\n",
    "for cust in customers:\n",
    "    if cust['customer id'] == 0:\n",
    "        customer = cust\n",
    "        break\n",
    "print(customer)"
   ]
  },
  {
   "cell_type": "code",
   "execution_count": 15,
   "id": "3dc57814",
   "metadata": {},
   "outputs": [],
   "source": [
    "customers = {\n",
    "    0:{\n",
    "        \"customer id\": 0,\n",
    "        \"first name\": \"rizwan\",\n",
    "        \"last name\":\"Ullah\",\n",
    "        \"address\": \"abc 123\",\n",
    "    },\n",
    "      1:  {\n",
    "        \"customer id\": 1,\n",
    "        \"first name\": \"haris\",\n",
    "        \"last name\":\"khan\",\n",
    "        \"address\": \"xyz 123\",\n",
    "    },\n",
    "      2:  {\n",
    "        \"customer id\": 2,\n",
    "        \"first name\": \"imran\",\n",
    "        \"last name\":\"jjjj\",\n",
    "        \"address\": \"ijk 123\",\n",
    "    }\n",
    "}"
   ]
  },
  {
   "cell_type": "code",
   "execution_count": 16,
   "id": "5e24f967",
   "metadata": {},
   "outputs": [
    {
     "name": "stdout",
     "output_type": "stream",
     "text": [
      "{'customer id': 2, 'first name': 'imran', 'last name': 'jjjj', 'address': 'ijk 123'}\n"
     ]
    }
   ],
   "source": [
    "print(customers[2])"
   ]
  },
  {
   "cell_type": "code",
   "execution_count": null,
   "id": "9f61f5b9",
   "metadata": {},
   "outputs": [],
   "source": []
  }
 ],
 "metadata": {
  "kernelspec": {
   "display_name": "Python 3 (ipykernel)",
   "language": "python",
   "name": "python3"
  },
  "language_info": {
   "codemirror_mode": {
    "name": "ipython",
    "version": 3
   },
   "file_extension": ".py",
   "mimetype": "text/x-python",
   "name": "python",
   "nbconvert_exporter": "python",
   "pygments_lexer": "ipython3",
   "version": "3.9.12"
  }
 },
 "nbformat": 4,
 "nbformat_minor": 5
}
