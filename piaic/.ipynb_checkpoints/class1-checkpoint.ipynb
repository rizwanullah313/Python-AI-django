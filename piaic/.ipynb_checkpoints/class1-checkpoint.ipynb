{
 "cells": [
  {
   "cell_type": "code",
   "execution_count": 5,
   "id": "d2d6c71d",
   "metadata": {},
   "outputs": [
    {
     "name": "stdout",
     "output_type": "stream",
     "text": [
      "city ('Karachi', 'city of lights')\n"
     ]
    },
    {
     "ename": "TypeError",
     "evalue": "'tuple' object does not support item assignment",
     "output_type": "error",
     "traceback": [
      "\u001b[1;31m---------------------------------------------------------------------------\u001b[0m",
      "\u001b[1;31mTypeError\u001b[0m                                 Traceback (most recent call last)",
      "Input \u001b[1;32mIn [5]\u001b[0m, in \u001b[0;36m<cell line: 3>\u001b[1;34m()\u001b[0m\n\u001b[0;32m      1\u001b[0m city \u001b[38;5;241m=\u001b[39m (\u001b[38;5;124m'\u001b[39m\u001b[38;5;124mKarachi\u001b[39m\u001b[38;5;124m'\u001b[39m,\u001b[38;5;124m'\u001b[39m\u001b[38;5;124mcity of lights\u001b[39m\u001b[38;5;124m'\u001b[39m)\n\u001b[0;32m      2\u001b[0m \u001b[38;5;28mprint\u001b[39m(\u001b[38;5;124m'\u001b[39m\u001b[38;5;124mcity\u001b[39m\u001b[38;5;124m'\u001b[39m,city)\n\u001b[1;32m----> 3\u001b[0m city[\u001b[38;5;241m0\u001b[39m] \u001b[38;5;241m=\u001b[39m \u001b[38;5;124m'\u001b[39m\u001b[38;5;124mIslamabad\u001b[39m\u001b[38;5;124m'\u001b[39m\n\u001b[0;32m      4\u001b[0m \u001b[38;5;28mprint\u001b[39m(\u001b[38;5;124m'\u001b[39m\u001b[38;5;124mcity\u001b[39m\u001b[38;5;124m'\u001b[39m,city)\n",
      "\u001b[1;31mTypeError\u001b[0m: 'tuple' object does not support item assignment"
     ]
    }
   ],
   "source": [
    "city = ('Karachi','city of lights')\n",
    "print('city',city)\n",
    "city[0] = 'Islamabad'\n",
    "print('city',city)\n"
   ]
  },
  {
   "cell_type": "code",
   "execution_count": 7,
   "id": "2fed0fea",
   "metadata": {},
   "outputs": [
    {
     "name": "stdout",
     "output_type": "stream",
     "text": [
      "city ('Islamabad', 'Capital of Pakistan')\n"
     ]
    },
    {
     "ename": "TypeError",
     "evalue": "'tuple' object doesn't support item deletion",
     "output_type": "error",
     "traceback": [
      "\u001b[1;31m---------------------------------------------------------------------------\u001b[0m",
      "\u001b[1;31mTypeError\u001b[0m                                 Traceback (most recent call last)",
      "Input \u001b[1;32mIn [7]\u001b[0m, in \u001b[0;36m<cell line: 3>\u001b[1;34m()\u001b[0m\n\u001b[0;32m      1\u001b[0m city \u001b[38;5;241m=\u001b[39m (\u001b[38;5;124m'\u001b[39m\u001b[38;5;124mIslamabad\u001b[39m\u001b[38;5;124m'\u001b[39m, \u001b[38;5;124m'\u001b[39m\u001b[38;5;124mCapital of Pakistan\u001b[39m\u001b[38;5;124m'\u001b[39m)\n\u001b[0;32m      2\u001b[0m \u001b[38;5;28mprint\u001b[39m(\u001b[38;5;124m'\u001b[39m\u001b[38;5;124mcity\u001b[39m\u001b[38;5;124m'\u001b[39m, city)\n\u001b[1;32m----> 3\u001b[0m \u001b[38;5;28;01mdel\u001b[39;00m city[\u001b[38;5;241m0\u001b[39m]\n\u001b[0;32m      4\u001b[0m \u001b[38;5;28mprint\u001b[39m(\u001b[38;5;124m'\u001b[39m\u001b[38;5;124mcity\u001b[39m\u001b[38;5;124m'\u001b[39m,city)\n",
      "\u001b[1;31mTypeError\u001b[0m: 'tuple' object doesn't support item deletion"
     ]
    }
   ],
   "source": [
    "city = ('Islamabad', 'Capital of Pakistan')\n",
    "print('city', city)\n",
    "del city[0]\n",
    "print('city',city)"
   ]
  },
  {
   "cell_type": "code",
   "execution_count": 8,
   "id": "a188d1d0",
   "metadata": {},
   "outputs": [
    {
     "name": "stdout",
     "output_type": "stream",
     "text": [
      "hello world\n"
     ]
    }
   ],
   "source": [
    "print('hello world')"
   ]
  },
  {
   "cell_type": "code",
   "execution_count": 32,
   "id": "d2314e73",
   "metadata": {},
   "outputs": [],
   "source": [
    "cities = ['Karachi','Lahore','Islamabad','Peshawar']\n",
    "cities1 = ('Karachi','Lahore','Islamabad','Peshawar')\n",
    "\n",
    "# print('City 1',cities[0])\n",
    "# print('City 2',cities[1])\n",
    "# print('City 3',cities[2])\n",
    "# print('City 4',cities[3])\n"
   ]
  },
  {
   "cell_type": "code",
   "execution_count": 33,
   "id": "06f549a2",
   "metadata": {},
   "outputs": [
    {
     "name": "stdout",
     "output_type": "stream",
     "text": [
      "city Karachi\n",
      "city Lahore\n",
      "city Islamabad\n",
      "city Peshawar\n"
     ]
    }
   ],
   "source": [
    "for i in cities1:\n",
    "    print('city',i)"
   ]
  },
  {
   "cell_type": "code",
   "execution_count": 34,
   "id": "ab1e2c28",
   "metadata": {},
   "outputs": [
    {
     "name": "stdout",
     "output_type": "stream",
     "text": [
      "city 4\n",
      "city 7\n",
      "city 10\n",
      "city 13\n",
      "city 16\n",
      "city 19\n"
     ]
    }
   ],
   "source": [
    "for i in range(4,20,3):#4 min 20 max 3 diff mean first 4 second 7\n",
    "    print('city',i)"
   ]
  },
  {
   "cell_type": "code",
   "execution_count": 39,
   "id": "92cd616c",
   "metadata": {},
   "outputs": [
    {
     "name": "stdout",
     "output_type": "stream",
     "text": [
      "city Lahore\n",
      "city Islamabad\n",
      "city Peshawar\n"
     ]
    }
   ],
   "source": [
    "for i in range(1,4):#max greater hga thu index outof bond chala jyega\n",
    "    print('city',cities[i])"
   ]
  },
  {
   "cell_type": "code",
   "execution_count": 41,
   "id": "3ec6a753",
   "metadata": {},
   "outputs": [
    {
     "name": "stdout",
     "output_type": "stream",
     "text": [
      "city Karachi\n",
      "city Lahore\n",
      "city Islamabad\n",
      "city Peshawar\n"
     ]
    }
   ],
   "source": [
    "for i in range(len(cities)):\n",
    "    print('city',cities[i])"
   ]
  },
  {
   "cell_type": "code",
   "execution_count": 43,
   "id": "182a6d23",
   "metadata": {},
   "outputs": [
    {
     "name": "stdout",
     "output_type": "stream",
     "text": [
      "Cityof Lights Found\n",
      "City Of Light Not Found\n",
      "City Of Light Not Found\n",
      "City Of Light Not Found\n"
     ]
    }
   ],
   "source": [
    "\n",
    "city_of_lights = 'Karachi'\n",
    "\n",
    "for i in range(len(cities)):\n",
    "    if city_of_lights == cities[i]:\n",
    "    #print('city',cities[i])\n",
    "        print('Cityof Lights Found')\n",
    "    else:\n",
    "        print('City Of Light Not Found')"
   ]
  },
  {
   "cell_type": "code",
   "execution_count": 45,
   "id": "3e0f69e5",
   "metadata": {},
   "outputs": [
    {
     "name": "stdout",
     "output_type": "stream",
     "text": [
      "City Of Light Not Found\n",
      "City Of Light Not Found\n",
      "City Of Light Not Found\n",
      "City Of Light Not Found\n"
     ]
    }
   ],
   "source": [
    "\n",
    "city_of_lights = 'Karachi'\n",
    "\n",
    "for i in range(len(cities)):\n",
    "    if city_of_lights.upper() == cities[i].lower():\n",
    "    #print('city',cities[i])\n",
    "        print('Cityof Lights Found')\n",
    "    else:\n",
    "        print('City Of Light Not Found')"
   ]
  },
  {
   "cell_type": "code",
   "execution_count": 52,
   "id": "d7076542",
   "metadata": {},
   "outputs": [
    {
     "name": "stdout",
     "output_type": "stream",
     "text": [
      "city Karachi\n",
      "Cityof Lights Found\n",
      "city Lahore\n",
      "City Of Light Not Found\n",
      "city Islamabad\n",
      "City Of Light Not Found\n",
      "city Peshawar\n",
      "City Of Light Not Found\n"
     ]
    }
   ],
   "source": [
    "city_of_lights = 'Karachi'\n",
    "\n",
    "for i in range(len(cities)):\n",
    "    print('city',cities[i])\n",
    "    if city_of_lights.title() == cities[i].title():\n",
    "    #print('city',cities[i])\n",
    "        print('Cityof Lights Found')\n",
    "    else:\n",
    "        print('City Of Light Not Found')"
   ]
  },
  {
   "cell_type": "code",
   "execution_count": 48,
   "id": "a9a0b01e",
   "metadata": {},
   "outputs": [],
   "source": [
    "# title first character capital baqi small\n",
    "# ye lower upper title only string per apply hoga"
   ]
  },
  {
   "cell_type": "code",
   "execution_count": 49,
   "id": "cbd48554",
   "metadata": {},
   "outputs": [
    {
     "name": "stdout",
     "output_type": "stream",
     "text": [
      "Cityof Lights Found\n"
     ]
    }
   ],
   "source": [
    "city_of_lights = 'Karachi'\n",
    "\n",
    "for i in range(len(cities)):\n",
    "    if city_of_lights.title() == cities[i].title():\n",
    "    #print('city',cities[i])\n",
    "        print('Cityof Lights Found')\n",
    "        break\n",
    "    else:\n",
    "        print('City Of Light Not Found')"
   ]
  },
  {
   "cell_type": "code",
   "execution_count": 51,
   "id": "9b8e5123",
   "metadata": {},
   "outputs": [
    {
     "name": "stdout",
     "output_type": "stream",
     "text": [
      "City Of Light Not Found\n",
      "City Of Light Not Found\n",
      "City Of Light Not Found\n"
     ]
    }
   ],
   "source": [
    "city_of_lights = 'Karachi'\n",
    "\n",
    "for i in range(len(cities)):\n",
    "    if city_of_lights.title() == cities[i].title():\n",
    "    #print('city',cities[i])\n",
    "        continue # is iteration ko skip kerdega\n",
    "        print('Cityof Lights Found')\n",
    "        #break\n",
    "    else:\n",
    "        print('City Of Light Not Found')"
   ]
  },
  {
   "cell_type": "code",
   "execution_count": 79,
   "id": "4e8f476e",
   "metadata": {},
   "outputs": [
    {
     "name": "stdout",
     "output_type": "stream",
     "text": [
      "First name  ['BlueRay ', 'Upchank ', 'Lojack ', 'Gizmo ', 'Do-Rag ']\n",
      "last name  ['Zzz', 'Burp', 'Dogbone', 'Droop']\n"
     ]
    }
   ],
   "source": [
    "first_names = [\"BlueRay \",\"Upchank \",\"Lojack \",\"Gizmo \",\"Do-Rag \"]\n",
    "\n",
    "last_names = [\"Zzz\",'Burp',\"Dogbone\",\"Droop\"]\n",
    "\n",
    "full_names = []\n",
    "\n",
    "print('First name ',first_names)\n",
    "print('last name ',last_names)"
   ]
  },
  {
   "cell_type": "code",
   "execution_count": 80,
   "id": "75cd3a39",
   "metadata": {},
   "outputs": [
    {
     "name": "stdout",
     "output_type": "stream",
     "text": [
      "full names  ['BlueRay Zzz', 'BlueRay Burp', 'BlueRay Dogbone', 'BlueRay Droop', 'Upchank Zzz', 'Upchank Burp', 'Upchank Dogbone', 'Upchank Droop', 'Lojack Zzz', 'Lojack Burp', 'Lojack Dogbone', 'Lojack Droop', 'Gizmo Zzz', 'Gizmo Burp', 'Gizmo Dogbone', 'Gizmo Droop', 'Do-Rag Zzz', 'Do-Rag Burp', 'Do-Rag Dogbone', 'Do-Rag Droop']\n"
     ]
    }
   ],
   "source": [
    "for first_name in first_names:\n",
    "   # print('First name',first_name)\n",
    "    for last_name in last_names:\n",
    "        full_names.append(first_name+last_name)\n",
    "print('full names ', full_names )"
   ]
  },
  {
   "cell_type": "code",
   "execution_count": 78,
   "id": "e55d5658",
   "metadata": {
    "scrolled": true
   },
   "outputs": [
    {
     "name": "stdout",
     "output_type": "stream",
     "text": [
      "first 0  BlueRay \n",
      "last  0  Zzz\n",
      "first 1  Upchank \n",
      "last  1  Burp\n",
      "first 2  Lojack \n",
      "last  2  Dogbone\n",
      "first 3  Gizmo \n",
      "last  3  Droop\n",
      "first 4  Do-Rag \n"
     ]
    },
    {
     "ename": "IndexError",
     "evalue": "list index out of range",
     "output_type": "error",
     "traceback": [
      "\u001b[1;31m---------------------------------------------------------------------------\u001b[0m",
      "\u001b[1;31mIndexError\u001b[0m                                Traceback (most recent call last)",
      "Input \u001b[1;32mIn [78]\u001b[0m, in \u001b[0;36m<cell line: 1>\u001b[1;34m()\u001b[0m\n\u001b[0;32m      1\u001b[0m \u001b[38;5;28;01mfor\u001b[39;00m i \u001b[38;5;129;01min\u001b[39;00m \u001b[38;5;28mrange\u001b[39m(\u001b[38;5;28mlen\u001b[39m(first_names)):\n\u001b[0;32m      2\u001b[0m     \u001b[38;5;28mprint\u001b[39m(\u001b[38;5;124m'\u001b[39m\u001b[38;5;124mfirst\u001b[39m\u001b[38;5;124m'\u001b[39m ,i,\u001b[38;5;124m'\u001b[39m\u001b[38;5;124m'\u001b[39m,first_names[i])\n\u001b[1;32m----> 3\u001b[0m     \u001b[38;5;28mprint\u001b[39m(\u001b[38;5;124m'\u001b[39m\u001b[38;5;124mlast \u001b[39m\u001b[38;5;124m'\u001b[39m,i,\u001b[38;5;124m'\u001b[39m\u001b[38;5;124m'\u001b[39m,\u001b[43mlast_names\u001b[49m\u001b[43m[\u001b[49m\u001b[43mi\u001b[49m\u001b[43m]\u001b[49m)\n\u001b[0;32m      4\u001b[0m     full_names\u001b[38;5;241m.\u001b[39mappend(first_names[i]\u001b[38;5;241m+\u001b[39mlast_names[i])\n",
      "\u001b[1;31mIndexError\u001b[0m: list index out of range"
     ]
    }
   ],
   "source": [
    "for i in range(len(first_names)):\n",
    "    print('first' ,i,'',first_names[i])\n",
    "    print('last ',i,'',last_names[i])\n",
    "    full_names.append(first_names[i]+last_names[i])"
   ]
  },
  {
   "cell_type": "code",
   "execution_count": 86,
   "id": "10b97e44",
   "metadata": {},
   "outputs": [
    {
     "name": "stdout",
     "output_type": "stream",
     "text": [
      "['BlueRay Zzz', 'Upchank Burp', 'Lojack Dogbone', 'Gizmo Droop']\n"
     ]
    }
   ],
   "source": [
    "first_names = [\"BlueRay \",\"Upchank \",\"Lojack \",\"Gizmo \"]\n",
    "\n",
    "last_names = [\"Zzz\",'Burp',\"Dogbone\",\"Droop\"]\n",
    "\n",
    "full_names = []\n",
    "\n",
    "for i in range(len(first_names)):\n",
    "    #print('first' ,i,'',first_names[i])\n",
    "    #print('last ',i,'',last_names[i])\n",
    "    full_names.append(first_names[i]+last_names[i])\n",
    "    #print(full_names)\n",
    "print(full_names)"
   ]
  },
  {
   "cell_type": "code",
   "execution_count": 89,
   "id": "4732d9fe",
   "metadata": {},
   "outputs": [
    {
     "name": "stdout",
     "output_type": "stream",
     "text": [
      "2 * 2  =  4\n",
      "2 * 3  =  6\n",
      "2 * 4  =  8\n",
      "2 * 5  =  10\n",
      "2 * 6  =  12\n",
      "2 * 7  =  14\n",
      "2 * 8  =  16\n",
      "2 * 9  =  18\n",
      "2 * 10  =  20\n",
      "2 * 11  =  22\n",
      "2 * 12  =  24\n",
      "2 * 13  =  26\n",
      "2 * 14  =  28\n",
      "2 * 15  =  30\n",
      "2 * 16  =  32\n",
      "2 * 17  =  34\n",
      "2 * 18  =  36\n",
      "2 * 19  =  38\n"
     ]
    }
   ],
   "source": [
    "for i in range(2,20):\n",
    "    print('2 *',i,' = ',i*2 )\n",
    "    "
   ]
  },
  {
   "cell_type": "code",
   "execution_count": 99,
   "id": "fe13899b",
   "metadata": {},
   "outputs": [
    {
     "name": "stdout",
     "output_type": "stream",
     "text": [
      "Enter Table Number 3\n",
      "Enter Range 10\n",
      " 3 x 3 = 9\n",
      " 3 x 4 = 12\n",
      " 3 x 5 = 15\n",
      " 3 x 6 = 18\n",
      " 3 x 7 = 21\n",
      " 3 x 8 = 24\n",
      " 3 x 9 = 27\n"
     ]
    }
   ],
   "source": [
    "tableinput = int(input(\"Enter Table Number \"))\n",
    "Enterrange = int(input(\"Enter Range \"))\n",
    "for i in range(tableinput,Enterrange):\n",
    "    #print('2 *',i,' = ',i*2 )\n",
    "    print(f\" {tableinput} x {i} = {tableinput*i}\")"
   ]
  },
  {
   "cell_type": "code",
   "execution_count": 115,
   "id": "74819d31",
   "metadata": {
    "scrolled": true
   },
   "outputs": [
    {
     "name": "stdout",
     "output_type": "stream",
     "text": [
      "Enter min val 1\n",
      "Enter Max val 100\n",
      "[88, 1, 13, 49, 18, 100, 71, 36, 34, 96, 89, 67, 82, 19, 96, 67, 59, 32, 99, 33, 61, 3, 33, 81, 97, 95, 78, 38, 44, 23, 86, 54, 65, 84, 49, 95, 68, 79, 87, 11, 43, 73, 92, 40, 74, 14, 44, 52, 3, 26, 11, 97, 70, 58, 89, 55, 3, 4, 73, 84, 55, 33, 73, 83, 61, 38, 28, 5, 76, 63, 63, 97, 59, 59, 1, 31, 15, 71, 14, 14, 5, 16, 41, 78, 87, 95, 52, 61, 71, 68, 93, 53, 23, 96, 85, 21, 15, 56, 20]\n"
     ]
    }
   ],
   "source": [
    "import random\n",
    "minv = int(input(\"Enter min val \"))\n",
    "maxv = int(input(\"Enter Max val \"))\n",
    "total = []\n",
    "#print(random.randint(10,90))\n",
    "for i in range(minv,maxv):\n",
    "    total.append(random.randint(minv,maxv))\n",
    "print(total)\n",
    "  "
   ]
  },
  {
   "cell_type": "code",
   "execution_count": 121,
   "id": "60c5c90f",
   "metadata": {},
   "outputs": [
    {
     "name": "stdout",
     "output_type": "stream",
     "text": [
      "1\n",
      "10\n",
      "[10, 2, 3, 20]\n",
      "No. of Elements in list are:  4\n",
      "[10, 3, 20]\n",
      "[10, 3]\n"
     ]
    }
   ],
   "source": [
    "lst = [1,2,3]\n",
    "print(lst[0])\n",
    "lst[0] = 10\n",
    "print(lst[0])\n",
    "lst.append(20)\n",
    "print(lst)\n",
    "print('No. of Elements in list are: ',len(lst))\n",
    "lst.remove(2)\n",
    "print(lst)\n",
    "lst.pop() # pop last index delete kerdetha h\n",
    "print(lst)"
   ]
  },
  {
   "cell_type": "code",
   "execution_count": null,
   "id": "7759c77e",
   "metadata": {},
   "outputs": [],
   "source": []
  },
  {
   "cell_type": "code",
   "execution_count": null,
   "id": "985fceb7",
   "metadata": {},
   "outputs": [],
   "source": []
  }
 ],
 "metadata": {
  "kernelspec": {
   "display_name": "Python 3 (ipykernel)",
   "language": "python",
   "name": "python3"
  },
  "language_info": {
   "codemirror_mode": {
    "name": "ipython",
    "version": 3
   },
   "file_extension": ".py",
   "mimetype": "text/x-python",
   "name": "python",
   "nbconvert_exporter": "python",
   "pygments_lexer": "ipython3",
   "version": "3.9.12"
  }
 },
 "nbformat": 4,
 "nbformat_minor": 5
}
