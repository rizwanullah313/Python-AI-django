{
 "cells": [
  {
   "cell_type": "code",
   "execution_count": 88,
   "id": "13f98a49",
   "metadata": {},
   "outputs": [
    {
     "name": "stdout",
     "output_type": "stream",
     "text": [
      "*** [47, 62, 12, 68, 18, 36, 59, 90, 72, 31, 70, 48, 37, 86, 28, 40, 47, 37, 18, 31, 79, 28, 78, 84, 78, 79, 68, 29, 72, 88, 45, 45, 38, 89, 79, 23, 37, 23, 16, 53, 27, 81, 45, 56, 21, 62, 81, 90, 24, 90, 58, 78, 59, 23, 36, 33, 36, 53, 86, 88, 76, 78, 24, 51, 41, 78, 34, 53, 31, 79, 47, 60, 26, 10, 25, 28, 63, 82, 28, 76, 80, 62, 50, 72, 24, 34, 24, 14, 62, 34, 36, 59, 69, 65, 57, 25, 33, 79, 84, 89]\n",
      "sum 5237\n",
      "Avg 52.37\n",
      "Mean 52.37\n"
     ]
    }
   ],
   "source": [
    "from statistics import random\n",
    "# import statistics\n",
    "\n",
    "rand_number = []\n",
    "\n",
    "for i in range(100):\n",
    "    r = random.randint(10,90)\n",
    "    rand_number.append(r)\n",
    "print('***',rand_number)\n",
    "\n",
    "number_sum = 0\n",
    "\n",
    "for i in rand_number:\n",
    "    number_sum = number_sum+i\n",
    "print(\"sum\",number_sum)\n",
    "\n",
    "number_svg = number_sum/ len(rand_number)\n",
    "print(\"Avg\",number_svg)\n",
    "print(\"Mean\", statistics.mean(rand_number))"
   ]
  },
  {
   "cell_type": "code",
   "execution_count": 89,
   "id": "80a14e90",
   "metadata": {},
   "outputs": [
    {
     "name": "stdout",
     "output_type": "stream",
     "text": [
      "Enter Your City Name? kArAChi\n",
      "City  kArAChi\n",
      "City  karachi\n",
      "City  KARACHI\n",
      "City  Karachi\n",
      "City  Karachi\n"
     ]
    }
   ],
   "source": [
    "city = input(\"Enter Your City Name? \")\n",
    "\n",
    "print(\"City \",city)\n",
    "print(\"City \",city.lower())\n",
    "print(\"City \",city.upper())\n",
    "print(\"City \",city.capitalize())\n",
    "print(\"City \",city.title())"
   ]
  },
  {
   "cell_type": "markdown",
   "id": "cf90cd2d",
   "metadata": {},
   "source": [
    "# Dictionary"
   ]
  },
  {
   "cell_type": "code",
   "execution_count": 90,
   "id": "0de64507",
   "metadata": {},
   "outputs": [
    {
     "name": "stdout",
     "output_type": "stream",
     "text": [
      "my_info {'name': 'rizwan', 'father_name': 'hassan', 'age': 24, 'gender': 'male', 'dob': '11 april 1997'}\n",
      "my_info {'name': 'rizwan', 'father_name': 'hassan', 'age': 24, 'gender': 'female', 'dob': '11 april 1997'}\n"
     ]
    }
   ],
   "source": [
    "\n",
    "my_info = {\n",
    "    'name': 'rizwan',\n",
    "    'father_name': 'hassan',\n",
    "    'age': 24,\n",
    "    'gender': 'male',\n",
    "    'dob': '11 april 1997',\n",
    "}\n",
    "print('my_info',my_info)\n",
    "# print(\"name\",my_info[name])\n",
    "# print(\"name\",my_info['name'])\n",
    "# print(\"name\",my_info['gender'])\n",
    "# del my_info['gender']\n",
    "my_info['gender'] = 'female'\n",
    "print('my_info',my_info)\n"
   ]
  },
  {
   "cell_type": "code",
   "execution_count": 94,
   "id": "acade931",
   "metadata": {},
   "outputs": [
    {
     "name": "stdout",
     "output_type": "stream",
     "text": [
      "{'name': 'rizwan', 'father_name': 'hassan', 'age': 24, 'gender': 'female', 'dob': '11 april 1997'}\n",
      "name: rizwan\n",
      "father_name: hassan\n",
      "age: 24\n",
      "gender: female\n",
      "dob: 11 april 1997\n"
     ]
    }
   ],
   "source": [
    "#my_info\n",
    "print(my_info)\n",
    "\n",
    "# for key,value in my_info.items():\n",
    "#     print('i',key,value)\n",
    "# print(\"keys \",my_info.keys())\n",
    "# print(\"Items \",my_info.items())\n",
    "# print(\"values \",my_info.values())\n",
    "\n",
    "for key,value in my_info.items():\n",
    "    print(f'{key}: {value}')"
   ]
  },
  {
   "cell_type": "code",
   "execution_count": null,
   "id": "f018c9e1",
   "metadata": {},
   "outputs": [],
   "source": [
    "# # num = int(input(\"Enter Table No \"))\n",
    "# for i in range(10):\n",
    "#     print(i, end=' ')\n",
    "    \n",
    "    \n",
    "#     print(i, i,\"*\",num,\"=\",i*num)\n",
    "# print(\"Check loop\")\n",
    "# print(\"After check\")\n",
    "\n"
   ]
  },
  {
   "cell_type": "code",
   "execution_count": 3,
   "id": "b90e5223",
   "metadata": {},
   "outputs": [
    {
     "name": "stdout",
     "output_type": "stream",
     "text": [
      "0 1 2 3 4 5 6 7 8 9 Check loop\n",
      "After check\n"
     ]
    }
   ],
   "source": [
    "for i in range(10):\n",
    "    print(i, end=' ')\n",
    "print(\"Check loop\")\n",
    "print(\"After check\")"
   ]
  },
  {
   "cell_type": "code",
   "execution_count": null,
   "id": "b2e85594",
   "metadata": {},
   "outputs": [],
   "source": [
    "#count String\n",
    "#check vowels\n",
    "#consonents\n",
    "#palyndrome"
   ]
  }
 ],
 "metadata": {
  "kernelspec": {
   "display_name": "Python 3 (ipykernel)",
   "language": "python",
   "name": "python3"
  },
  "language_info": {
   "codemirror_mode": {
    "name": "ipython",
    "version": 3
   },
   "file_extension": ".py",
   "mimetype": "text/x-python",
   "name": "python",
   "nbconvert_exporter": "python",
   "pygments_lexer": "ipython3",
   "version": "3.9.12"
  }
 },
 "nbformat": 4,
 "nbformat_minor": 5
}
